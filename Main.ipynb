{
 "cells": [
  {
   "cell_type": "markdown",
   "id": "1ec42d8b",
   "metadata": {},
   "source": [
    "1 : Import all the libraries "
   ]
  },
  {
   "cell_type": "code",
   "execution_count": 149,
   "id": "4d85d743",
   "metadata": {},
   "outputs": [
    {
     "data": {
      "text/html": [
       "        <script type=\"text/javascript\">\n",
       "        window.PlotlyConfig = {MathJaxConfig: 'local'};\n",
       "        if (window.MathJax && window.MathJax.Hub && window.MathJax.Hub.Config) {window.MathJax.Hub.Config({SVG: {font: \"STIX-Web\"}});}\n",
       "        if (typeof require !== 'undefined') {\n",
       "        require.undef(\"plotly\");\n",
       "        requirejs.config({\n",
       "            paths: {\n",
       "                'plotly': ['https://cdn.plot.ly/plotly-2.12.1.min']\n",
       "            }\n",
       "        });\n",
       "        require(['plotly'], function(Plotly) {\n",
       "            window._Plotly = Plotly;\n",
       "        });\n",
       "        }\n",
       "        </script>\n",
       "        "
      ]
     },
     "metadata": {},
     "output_type": "display_data"
    }
   ],
   "source": [
    "#basic lib\n",
    "import math\n",
    "import numpy as np\n",
    "import pandas as pd\n",
    "import seaborn as sns\n",
    "import matplotlib.pyplot as plt\n",
    "import json\n",
    "import re\n",
    "from datetime import datetime\n",
    "import os\n",
    "import scipy as sci\n",
    "import plotly\n",
    "import stat\n",
    "import sklearn as sk\n",
    "import warnings\n",
    "import time \n",
    "import requests\n",
    "warnings.filterwarnings(\"ignore\")\n",
    "\n",
    "from scipy.stats import skew\n",
    "from scipy.stats import boxcox \n",
    "\n",
    "#scklit learn\n",
    "import sklearn.preprocessing as pre\n",
    "from sklearn.preprocessing import StandardScaler\n",
    "from sklearn.preprocessing import LabelEncoder\n",
    "from sklearn.preprocessing import LabelBinarizer\n",
    "from sklearn.preprocessing import OrdinalEncoder\n",
    "from sklearn.preprocessing import MinMaxScaler\n",
    "\n",
    "from sklearn.model_selection import train_test_split\n",
    "from sklearn.model_selection import StratifiedKFold\n",
    "from sklearn.model_selection import cross_val_score\n",
    "\n",
    "from sklearn.datasets import load_digits\n",
    "\n",
    "from sklearn import metrics\n",
    "from sklearn.metrics import classification_report, confusion_matrix, accuracy_score, precision_score, recall_score\n",
    "#from sklearn.metrics import mean_absolute_error, plot_confusion_matrix\n",
    "from sklearn.metrics import roc_auc_score , roc_curve\n",
    "\n",
    "from sklearn.impute import SimpleImputer\n",
    "from sklearn.tree import DecisionTreeClassifier \n",
    "from sklearn.ensemble import RandomForestRegressor\n",
    "\n",
    "from sklearn.pipeline import make_pipeline\n",
    "from sklearn.pipeline import Pipeline\n",
    "\n",
    "from sklearn.linear_model import LinearRegression\n",
    "from sklearn.linear_model import LogisticRegression\n",
    "\n",
    "from sklearn.naive_bayes import GaussianNB\n",
    "\n",
    "from sklearn.svm import SVC\n",
    "from sklearn.svm import LinearSVC\n",
    "\n",
    "from sklearn.multiclass import OneVsOneClassifier , OneVsRestClassifier , OutputCodeClassifier\n",
    "\n",
    "from sklearn.discriminant_analysis import LinearDiscriminantAnalysis\n",
    "\n",
    "from sklearn.neighbors import KNeighborsClassifier\n",
    "\n",
    "from sklearn.cluster import KMeans\n",
    "\n",
    "\n",
    "#plotly\n",
    "import plotly\n",
    "import chart_studio.plotly as py #pip install chart_studio\n",
    "import plotly.graph_objs as go\n",
    "import plotly.express as px\n",
    "from plotly.offline import init_notebook_mode, iplot, plot\n",
    "init_notebook_mode(connected=True)\n",
    "\n",
    "\n",
    "# set styles and defaults\n",
    "#pd.set_option('max_columns', None)\n",
    "#pd.set_option('max_rows', 1000)\n",
    "\n",
    "pd.options.display.max_rows = 1000\n",
    "pd.options.display.max_columns = 100\n",
    "\n",
    "from IPython.display import set_matplotlib_formats\n",
    "set_matplotlib_formats('png')\n",
    "sns.set_context('talk')\n",
    "sns.set_style('whitegrid')\n",
    "#sns.set_palette('rainbow')\n",
    "#sns.set(context='talk' , style = 'whitegrid', palette = 'rainbow')\n",
    "#sns.set_palette(\"RdPu\", 10)"
   ]
  },
  {
   "cell_type": "markdown",
   "id": "b953d812",
   "metadata": {},
   "source": [
    "2 : write spotify developer details . This is to be hidden . "
   ]
  },
  {
   "cell_type": "code",
   "execution_count": 150,
   "id": "736f6e8f",
   "metadata": {},
   "outputs": [],
   "source": [
    "CLIENT_ID = '87c5153b7f74400ab86057e17cd8974a'\n",
    "CLIENT_SECRET = 'e69632e3ef7448fd847a181730fac26c'\n",
    "username = 'fv9r6gystti1tplk7pwckqi0e'\n",
    "redirect_uri = 'http://localhost:3005/'\n",
    "scope = 'user-read-recently-played'\n",
    "#token = 'BQC5IhDvlsMO7gOSMGIWi2JO3iiwZTB-vWFl6O4dYBy1wMZJsaQXD8-YjVZjXw0uGf9RjU0gaK7cu8OBMMLTABlvjIOXAdkVoQWdDm5Ehcchh9QyBU7U1Y6N73Ty2pVlcH7I_nVR5qtHJSGwBBeESHkuBcUJDWI'\n"
   ]
  },
  {
   "cell_type": "markdown",
   "id": "e22827ca",
   "metadata": {},
   "source": [
    "3: spotipy import and define client credentials, token"
   ]
  },
  {
   "cell_type": "code",
   "execution_count": 151,
   "id": "5a776b71",
   "metadata": {},
   "outputs": [],
   "source": [
    "# spotify \n",
    "import spotipy #pip install spotipy\n",
    "import spotipy.util as util\n",
    "from spotipy.oauth2 import SpotifyClientCredentials\n",
    "from spotipy.oauth2 import SpotifyOAuth"
   ]
  },
  {
   "cell_type": "code",
   "execution_count": 152,
   "id": "727b0a5b",
   "metadata": {},
   "outputs": [],
   "source": [
    "client_credentials_manager = SpotifyClientCredentials(client_id=CLIENT_ID, client_secret=CLIENT_SECRET)\n",
    "sp = spotipy.Spotify(client_credentials_manager=client_credentials_manager)\n",
    "token = util.prompt_for_user_token(username=username, \n",
    "                                   scope=scope, \n",
    "                                   client_id=CLIENT_ID,   \n",
    "                                   client_secret=CLIENT_SECRET,     \n",
    "                                   redirect_uri=redirect_uri)"
   ]
  },
  {
   "cell_type": "markdown",
   "id": "91aaf989",
   "metadata": {},
   "source": [
    "4: get streaming history "
   ]
  },
  {
   "cell_type": "code",
   "execution_count": 153,
   "id": "4cb6279f",
   "metadata": {},
   "outputs": [],
   "source": [
    "df_a = pd.read_json(\"D:/ADITYA/Documents/adi new/coding/spotify/data_adi/all data/Streaming_History_Audio_2019-2020_0.json\")"
   ]
  },
  {
   "cell_type": "code",
   "execution_count": 154,
   "id": "7a6126e6",
   "metadata": {},
   "outputs": [],
   "source": [
    "df_b = pd.read_json(\"D:/ADITYA/Documents/adi new/coding/spotify/data_adi/all data/Streaming_History_Audio_2020-2022_1.json\")"
   ]
  },
  {
   "cell_type": "code",
   "execution_count": 155,
   "id": "fc3d5522",
   "metadata": {},
   "outputs": [],
   "source": [
    "df_c = pd.read_json(\"D:/ADITYA/Documents/adi new/coding/spotify/data_adi/all data/Streaming_History_Audio_2022-2023_2.json\")"
   ]
  },
  {
   "cell_type": "code",
   "execution_count": null,
   "id": "de94ec04",
   "metadata": {},
   "outputs": [],
   "source": []
  },
  {
   "cell_type": "code",
   "execution_count": 156,
   "id": "fec3f72b",
   "metadata": {},
   "outputs": [
    {
     "data": {
      "text/plain": [
       "(42102, 21)"
      ]
     },
     "execution_count": 156,
     "metadata": {},
     "output_type": "execute_result"
    }
   ],
   "source": [
    "df = pd.concat([df_a,df_b,df_c],ignore_index=True)\n",
    "df.shape"
   ]
  },
  {
   "cell_type": "code",
   "execution_count": 157,
   "id": "67111bde",
   "metadata": {},
   "outputs": [],
   "source": [
    "df['id'] = df['spotify_track_uri'].str.split(\":\").str[-1]\n",
    "df = df.drop(['username','platform','conn_country','ip_addr_decrypted','user_agent_decrypted','incognito_mode','spotify_episode_uri',\n",
    "              'episode_name','episode_show_name','reason_start','shuffle','offline','offline_timestamp','spotify_track_uri'],axis=1)\n",
    "df = df.rename(columns={'master_metadata_track_name': 'trackName','master_metadata_album_artist_name':'artistName',\n",
    "                        'master_metadata_album_album_name':'albumName','ts':'date_time'})\n"
   ]
  },
  {
   "cell_type": "code",
   "execution_count": 158,
   "id": "6b11d263",
   "metadata": {},
   "outputs": [
    {
     "data": {
      "text/plain": [
       "(42102, 8)"
      ]
     },
     "execution_count": 158,
     "metadata": {},
     "output_type": "execute_result"
    }
   ],
   "source": [
    "df.shape"
   ]
  },
  {
   "cell_type": "markdown",
   "id": "6e5511c9",
   "metadata": {},
   "source": [
    "find the unique elements from id column"
   ]
  },
  {
   "cell_type": "code",
   "execution_count": 159,
   "id": "e95b331f",
   "metadata": {},
   "outputs": [
    {
     "data": {
      "text/plain": [
       "(7837, 8)"
      ]
     },
     "execution_count": 159,
     "metadata": {},
     "output_type": "execute_result"
    }
   ],
   "source": [
    "df_unique = df.drop_duplicates(subset=['id'])\n",
    "df_unique.shape"
   ]
  },
  {
   "cell_type": "markdown",
   "id": "caf5afaa",
   "metadata": {},
   "source": [
    "we have already got audio analysis from playlist songs \n"
   ]
  },
  {
   "cell_type": "code",
   "execution_count": 160,
   "id": "4a34705a",
   "metadata": {},
   "outputs": [],
   "source": [
    "playlist = pd.read_csv('playlist_data.csv')"
   ]
  },
  {
   "cell_type": "code",
   "execution_count": 161,
   "id": "54a4d250",
   "metadata": {},
   "outputs": [
    {
     "data": {
      "text/plain": [
       "(388, 26)"
      ]
     },
     "execution_count": 161,
     "metadata": {},
     "output_type": "execute_result"
    }
   ],
   "source": [
    "playlist.shape"
   ]
  },
  {
   "cell_type": "code",
   "execution_count": 162,
   "id": "d5223a65",
   "metadata": {},
   "outputs": [],
   "source": [
    "playlist = playlist[['id','playlist']]"
   ]
  },
  {
   "cell_type": "markdown",
   "id": "caa6e5af",
   "metadata": {},
   "source": [
    "now we import audio analysis for these new songs "
   ]
  },
  {
   "cell_type": "code",
   "execution_count": 163,
   "id": "a1614155",
   "metadata": {},
   "outputs": [],
   "source": [
    "new_songs = pd.read_csv('new_audio_analysis.csv')"
   ]
  },
  {
   "cell_type": "code",
   "execution_count": 164,
   "id": "8304755a",
   "metadata": {},
   "outputs": [],
   "source": [
    "new_songs = new_songs.drop(['trackName','artistName'],axis=1)"
   ]
  },
  {
   "cell_type": "markdown",
   "id": "ebe0eb7f",
   "metadata": {},
   "source": [
    "Now we merge these songs with audio analysis to our streaming history "
   ]
  },
  {
   "cell_type": "code",
   "execution_count": 165,
   "id": "d93c4b69",
   "metadata": {},
   "outputs": [
    {
     "data": {
      "text/plain": [
       "(42102, 21)"
      ]
     },
     "execution_count": 165,
     "metadata": {},
     "output_type": "execute_result"
    }
   ],
   "source": [
    "df_new = pd.merge(df,new_songs,on=['id'],how='left')\n",
    "df_new.shape"
   ]
  },
  {
   "cell_type": "code",
   "execution_count": 166,
   "id": "6911da5b",
   "metadata": {},
   "outputs": [],
   "source": [
    "df_new = df_new.dropna(subset=['id'])"
   ]
  },
  {
   "cell_type": "code",
   "execution_count": 167,
   "id": "1006ae96",
   "metadata": {},
   "outputs": [
    {
     "data": {
      "text/plain": [
       "(41213, 21)"
      ]
     },
     "execution_count": 167,
     "metadata": {},
     "output_type": "execute_result"
    }
   ],
   "source": [
    "df_new.shape"
   ]
  },
  {
   "cell_type": "markdown",
   "id": "4875a37c",
   "metadata": {},
   "source": [
    "adding playlist names"
   ]
  },
  {
   "cell_type": "code",
   "execution_count": 168,
   "id": "005981ee",
   "metadata": {},
   "outputs": [],
   "source": [
    "df_new1 = pd.merge(df_new,playlist,on=['id'],how='left')"
   ]
  },
  {
   "cell_type": "code",
   "execution_count": 169,
   "id": "c3b2f0f4",
   "metadata": {},
   "outputs": [
    {
     "data": {
      "text/plain": [
       "(44004, 22)"
      ]
     },
     "execution_count": 169,
     "metadata": {},
     "output_type": "execute_result"
    }
   ],
   "source": [
    "df_new1.shape "
   ]
  },
  {
   "cell_type": "markdown",
   "id": "0c05f6d3",
   "metadata": {},
   "source": [
    "Now we can doing some basic EDA and digging on this data"
   ]
  },
  {
   "cell_type": "code",
   "execution_count": 187,
   "id": "bb56a1aa",
   "metadata": {},
   "outputs": [
    {
     "name": "stdout",
     "output_type": "stream",
     "text": [
      "<class 'pandas.core.frame.DataFrame'>\n",
      "Int64Index: 43676 entries, 0 to 44003\n",
      "Data columns (total 23 columns):\n",
      " #   Column            Non-Null Count  Dtype                       \n",
      "---  ------            --------------  -----                       \n",
      " 0   date_time         43676 non-null  datetime64[ns, Asia/Kolkata]\n",
      " 1   trackName         43676 non-null  object                      \n",
      " 2   artistName        43676 non-null  object                      \n",
      " 3   albumName         43676 non-null  object                      \n",
      " 4   reason_end        43676 non-null  object                      \n",
      " 5   skipped           11492 non-null  float64                     \n",
      " 6   id                43676 non-null  object                      \n",
      " 7   danceability      43676 non-null  float64                     \n",
      " 8   loudness          43676 non-null  float64                     \n",
      " 9   tempo             43676 non-null  float64                     \n",
      " 10  acousticness      43676 non-null  float64                     \n",
      " 11  energy            43676 non-null  float64                     \n",
      " 12  valence           43676 non-null  float64                     \n",
      " 13  liveness          43676 non-null  float64                     \n",
      " 14  speechiness       43676 non-null  float64                     \n",
      " 15  instrumentalness  43676 non-null  float64                     \n",
      " 16  key               43676 non-null  object                      \n",
      " 17  time_signature    43676 non-null  float64                     \n",
      " 18  mode              43676 non-null  object                      \n",
      " 19  playlist          43676 non-null  object                      \n",
      " 20  min_played        43676 non-null  float64                     \n",
      " 21  duration          43676 non-null  float64                     \n",
      " 22  skip              43676 non-null  bool                        \n",
      "dtypes: bool(1), datetime64[ns, Asia/Kolkata](1), float64(13), object(8)\n",
      "memory usage: 7.7+ MB\n"
     ]
    }
   ],
   "source": [
    "df_new1.info()"
   ]
  },
  {
   "cell_type": "markdown",
   "id": "6cc1c094",
   "metadata": {},
   "source": [
    "lets see what the file contains "
   ]
  },
  {
   "cell_type": "code",
   "execution_count": 185,
   "id": "a1995854",
   "metadata": {
    "scrolled": true
   },
   "outputs": [
    {
     "data": {
      "text/html": [
       "<div>\n",
       "<style scoped>\n",
       "    .dataframe tbody tr th:only-of-type {\n",
       "        vertical-align: middle;\n",
       "    }\n",
       "\n",
       "    .dataframe tbody tr th {\n",
       "        vertical-align: top;\n",
       "    }\n",
       "\n",
       "    .dataframe thead th {\n",
       "        text-align: right;\n",
       "    }\n",
       "</style>\n",
       "<table border=\"1\" class=\"dataframe\">\n",
       "  <thead>\n",
       "    <tr style=\"text-align: right;\">\n",
       "      <th></th>\n",
       "      <th>date_time</th>\n",
       "      <th>trackName</th>\n",
       "      <th>artistName</th>\n",
       "      <th>albumName</th>\n",
       "      <th>reason_end</th>\n",
       "      <th>skipped</th>\n",
       "      <th>id</th>\n",
       "      <th>danceability</th>\n",
       "      <th>loudness</th>\n",
       "      <th>tempo</th>\n",
       "      <th>acousticness</th>\n",
       "      <th>energy</th>\n",
       "      <th>valence</th>\n",
       "      <th>liveness</th>\n",
       "      <th>speechiness</th>\n",
       "      <th>instrumentalness</th>\n",
       "      <th>key</th>\n",
       "      <th>time_signature</th>\n",
       "      <th>mode</th>\n",
       "      <th>playlist</th>\n",
       "      <th>min_played</th>\n",
       "      <th>duration</th>\n",
       "      <th>skip</th>\n",
       "    </tr>\n",
       "  </thead>\n",
       "  <tbody>\n",
       "    <tr>\n",
       "      <th>count</th>\n",
       "      <td>43676</td>\n",
       "      <td>43676</td>\n",
       "      <td>43676</td>\n",
       "      <td>43676</td>\n",
       "      <td>43676</td>\n",
       "      <td>11492.000000</td>\n",
       "      <td>43676</td>\n",
       "      <td>43676.000000</td>\n",
       "      <td>43676.000000</td>\n",
       "      <td>43676.000000</td>\n",
       "      <td>43676.000000</td>\n",
       "      <td>43676.000000</td>\n",
       "      <td>43676.000000</td>\n",
       "      <td>43676.000000</td>\n",
       "      <td>43676.000000</td>\n",
       "      <td>43676.000000</td>\n",
       "      <td>43676</td>\n",
       "      <td>43676.000000</td>\n",
       "      <td>43676</td>\n",
       "      <td>43676</td>\n",
       "      <td>43676.000000</td>\n",
       "      <td>43676.000000</td>\n",
       "      <td>43676</td>\n",
       "    </tr>\n",
       "    <tr>\n",
       "      <th>unique</th>\n",
       "      <td>37789</td>\n",
       "      <td>7152</td>\n",
       "      <td>3273</td>\n",
       "      <td>5332</td>\n",
       "      <td>10</td>\n",
       "      <td>NaN</td>\n",
       "      <td>7746</td>\n",
       "      <td>NaN</td>\n",
       "      <td>NaN</td>\n",
       "      <td>NaN</td>\n",
       "      <td>NaN</td>\n",
       "      <td>NaN</td>\n",
       "      <td>NaN</td>\n",
       "      <td>NaN</td>\n",
       "      <td>NaN</td>\n",
       "      <td>NaN</td>\n",
       "      <td>12</td>\n",
       "      <td>NaN</td>\n",
       "      <td>2</td>\n",
       "      <td>8</td>\n",
       "      <td>NaN</td>\n",
       "      <td>NaN</td>\n",
       "      <td>2</td>\n",
       "    </tr>\n",
       "    <tr>\n",
       "      <th>top</th>\n",
       "      <td>2021-05-26 20:59:14+05:30</td>\n",
       "      <td>Sooraj Ki Baahon Mein</td>\n",
       "      <td>The Yellow Diary</td>\n",
       "      <td>Zindagi Na Milegi Dobara</td>\n",
       "      <td>fwdbtn</td>\n",
       "      <td>NaN</td>\n",
       "      <td>723xQva0yBF7M6K3nDAG8R</td>\n",
       "      <td>NaN</td>\n",
       "      <td>NaN</td>\n",
       "      <td>NaN</td>\n",
       "      <td>NaN</td>\n",
       "      <td>NaN</td>\n",
       "      <td>NaN</td>\n",
       "      <td>NaN</td>\n",
       "      <td>NaN</td>\n",
       "      <td>NaN</td>\n",
       "      <td>A</td>\n",
       "      <td>NaN</td>\n",
       "      <td>major</td>\n",
       "      <td>new songs</td>\n",
       "      <td>NaN</td>\n",
       "      <td>NaN</td>\n",
       "      <td>False</td>\n",
       "    </tr>\n",
       "    <tr>\n",
       "      <th>freq</th>\n",
       "      <td>36</td>\n",
       "      <td>600</td>\n",
       "      <td>1493</td>\n",
       "      <td>1200</td>\n",
       "      <td>18914</td>\n",
       "      <td>NaN</td>\n",
       "      <td>600</td>\n",
       "      <td>NaN</td>\n",
       "      <td>NaN</td>\n",
       "      <td>NaN</td>\n",
       "      <td>NaN</td>\n",
       "      <td>NaN</td>\n",
       "      <td>NaN</td>\n",
       "      <td>NaN</td>\n",
       "      <td>NaN</td>\n",
       "      <td>NaN</td>\n",
       "      <td>5943</td>\n",
       "      <td>NaN</td>\n",
       "      <td>29251</td>\n",
       "      <td>24059</td>\n",
       "      <td>NaN</td>\n",
       "      <td>NaN</td>\n",
       "      <td>27901</td>\n",
       "    </tr>\n",
       "    <tr>\n",
       "      <th>first</th>\n",
       "      <td>2019-02-27 08:16:51+05:30</td>\n",
       "      <td>NaN</td>\n",
       "      <td>NaN</td>\n",
       "      <td>NaN</td>\n",
       "      <td>NaN</td>\n",
       "      <td>NaN</td>\n",
       "      <td>NaN</td>\n",
       "      <td>NaN</td>\n",
       "      <td>NaN</td>\n",
       "      <td>NaN</td>\n",
       "      <td>NaN</td>\n",
       "      <td>NaN</td>\n",
       "      <td>NaN</td>\n",
       "      <td>NaN</td>\n",
       "      <td>NaN</td>\n",
       "      <td>NaN</td>\n",
       "      <td>NaN</td>\n",
       "      <td>NaN</td>\n",
       "      <td>NaN</td>\n",
       "      <td>NaN</td>\n",
       "      <td>NaN</td>\n",
       "      <td>NaN</td>\n",
       "      <td>NaN</td>\n",
       "    </tr>\n",
       "    <tr>\n",
       "      <th>last</th>\n",
       "      <td>2023-11-17 02:36:41+05:30</td>\n",
       "      <td>NaN</td>\n",
       "      <td>NaN</td>\n",
       "      <td>NaN</td>\n",
       "      <td>NaN</td>\n",
       "      <td>NaN</td>\n",
       "      <td>NaN</td>\n",
       "      <td>NaN</td>\n",
       "      <td>NaN</td>\n",
       "      <td>NaN</td>\n",
       "      <td>NaN</td>\n",
       "      <td>NaN</td>\n",
       "      <td>NaN</td>\n",
       "      <td>NaN</td>\n",
       "      <td>NaN</td>\n",
       "      <td>NaN</td>\n",
       "      <td>NaN</td>\n",
       "      <td>NaN</td>\n",
       "      <td>NaN</td>\n",
       "      <td>NaN</td>\n",
       "      <td>NaN</td>\n",
       "      <td>NaN</td>\n",
       "      <td>NaN</td>\n",
       "    </tr>\n",
       "    <tr>\n",
       "      <th>mean</th>\n",
       "      <td>NaN</td>\n",
       "      <td>NaN</td>\n",
       "      <td>NaN</td>\n",
       "      <td>NaN</td>\n",
       "      <td>NaN</td>\n",
       "      <td>0.441263</td>\n",
       "      <td>NaN</td>\n",
       "      <td>0.590831</td>\n",
       "      <td>0.848086</td>\n",
       "      <td>0.523515</td>\n",
       "      <td>0.383074</td>\n",
       "      <td>0.551844</td>\n",
       "      <td>0.451862</td>\n",
       "      <td>0.163030</td>\n",
       "      <td>0.081702</td>\n",
       "      <td>0.093201</td>\n",
       "      <td>NaN</td>\n",
       "      <td>3.905646</td>\n",
       "      <td>NaN</td>\n",
       "      <td>NaN</td>\n",
       "      <td>1.823353</td>\n",
       "      <td>3.839438</td>\n",
       "      <td>NaN</td>\n",
       "    </tr>\n",
       "    <tr>\n",
       "      <th>std</th>\n",
       "      <td>NaN</td>\n",
       "      <td>NaN</td>\n",
       "      <td>NaN</td>\n",
       "      <td>NaN</td>\n",
       "      <td>NaN</td>\n",
       "      <td>0.496560</td>\n",
       "      <td>NaN</td>\n",
       "      <td>0.161382</td>\n",
       "      <td>0.067908</td>\n",
       "      <td>0.115228</td>\n",
       "      <td>0.329532</td>\n",
       "      <td>0.211925</td>\n",
       "      <td>0.242136</td>\n",
       "      <td>0.123582</td>\n",
       "      <td>0.094534</td>\n",
       "      <td>0.236520</td>\n",
       "      <td>NaN</td>\n",
       "      <td>0.392084</td>\n",
       "      <td>NaN</td>\n",
       "      <td>NaN</td>\n",
       "      <td>1.805237</td>\n",
       "      <td>1.220220</td>\n",
       "      <td>NaN</td>\n",
       "    </tr>\n",
       "    <tr>\n",
       "      <th>min</th>\n",
       "      <td>NaN</td>\n",
       "      <td>NaN</td>\n",
       "      <td>NaN</td>\n",
       "      <td>NaN</td>\n",
       "      <td>NaN</td>\n",
       "      <td>0.000000</td>\n",
       "      <td>NaN</td>\n",
       "      <td>0.000000</td>\n",
       "      <td>0.233650</td>\n",
       "      <td>0.162480</td>\n",
       "      <td>0.000001</td>\n",
       "      <td>0.000532</td>\n",
       "      <td>0.000000</td>\n",
       "      <td>0.019300</td>\n",
       "      <td>0.000000</td>\n",
       "      <td>0.000000</td>\n",
       "      <td>NaN</td>\n",
       "      <td>0.000000</td>\n",
       "      <td>NaN</td>\n",
       "      <td>NaN</td>\n",
       "      <td>0.000000</td>\n",
       "      <td>0.190000</td>\n",
       "      <td>NaN</td>\n",
       "    </tr>\n",
       "    <tr>\n",
       "      <th>25%</th>\n",
       "      <td>NaN</td>\n",
       "      <td>NaN</td>\n",
       "      <td>NaN</td>\n",
       "      <td>NaN</td>\n",
       "      <td>NaN</td>\n",
       "      <td>0.000000</td>\n",
       "      <td>NaN</td>\n",
       "      <td>0.492000</td>\n",
       "      <td>0.823983</td>\n",
       "      <td>0.451612</td>\n",
       "      <td>0.056600</td>\n",
       "      <td>0.412000</td>\n",
       "      <td>0.246000</td>\n",
       "      <td>0.094200</td>\n",
       "      <td>0.033300</td>\n",
       "      <td>0.000002</td>\n",
       "      <td>NaN</td>\n",
       "      <td>4.000000</td>\n",
       "      <td>NaN</td>\n",
       "      <td>NaN</td>\n",
       "      <td>0.050000</td>\n",
       "      <td>3.160000</td>\n",
       "      <td>NaN</td>\n",
       "    </tr>\n",
       "    <tr>\n",
       "      <th>50%</th>\n",
       "      <td>NaN</td>\n",
       "      <td>NaN</td>\n",
       "      <td>NaN</td>\n",
       "      <td>NaN</td>\n",
       "      <td>NaN</td>\n",
       "      <td>0.000000</td>\n",
       "      <td>NaN</td>\n",
       "      <td>0.605000</td>\n",
       "      <td>0.863333</td>\n",
       "      <td>0.521432</td>\n",
       "      <td>0.315000</td>\n",
       "      <td>0.561000</td>\n",
       "      <td>0.431000</td>\n",
       "      <td>0.115000</td>\n",
       "      <td>0.042700</td>\n",
       "      <td>0.000196</td>\n",
       "      <td>NaN</td>\n",
       "      <td>4.000000</td>\n",
       "      <td>NaN</td>\n",
       "      <td>NaN</td>\n",
       "      <td>1.440000</td>\n",
       "      <td>3.650000</td>\n",
       "      <td>NaN</td>\n",
       "    </tr>\n",
       "    <tr>\n",
       "      <th>75%</th>\n",
       "      <td>NaN</td>\n",
       "      <td>NaN</td>\n",
       "      <td>NaN</td>\n",
       "      <td>NaN</td>\n",
       "      <td>NaN</td>\n",
       "      <td>1.000000</td>\n",
       "      <td>NaN</td>\n",
       "      <td>0.703000</td>\n",
       "      <td>0.891333</td>\n",
       "      <td>0.615188</td>\n",
       "      <td>0.676000</td>\n",
       "      <td>0.718000</td>\n",
       "      <td>0.628000</td>\n",
       "      <td>0.185000</td>\n",
       "      <td>0.076400</td>\n",
       "      <td>0.011500</td>\n",
       "      <td>NaN</td>\n",
       "      <td>4.000000</td>\n",
       "      <td>NaN</td>\n",
       "      <td>NaN</td>\n",
       "      <td>3.300000</td>\n",
       "      <td>4.270000</td>\n",
       "      <td>NaN</td>\n",
       "    </tr>\n",
       "    <tr>\n",
       "      <th>max</th>\n",
       "      <td>NaN</td>\n",
       "      <td>NaN</td>\n",
       "      <td>NaN</td>\n",
       "      <td>NaN</td>\n",
       "      <td>NaN</td>\n",
       "      <td>1.000000</td>\n",
       "      <td>NaN</td>\n",
       "      <td>0.980000</td>\n",
       "      <td>0.991267</td>\n",
       "      <td>1.000000</td>\n",
       "      <td>0.996000</td>\n",
       "      <td>0.998000</td>\n",
       "      <td>0.980000</td>\n",
       "      <td>0.982000</td>\n",
       "      <td>0.891000</td>\n",
       "      <td>0.995000</td>\n",
       "      <td>NaN</td>\n",
       "      <td>5.000000</td>\n",
       "      <td>NaN</td>\n",
       "      <td>NaN</td>\n",
       "      <td>18.540000</td>\n",
       "      <td>16.620000</td>\n",
       "      <td>NaN</td>\n",
       "    </tr>\n",
       "  </tbody>\n",
       "</table>\n",
       "</div>"
      ],
      "text/plain": [
       "                        date_time              trackName        artistName  \\\n",
       "count                       43676                  43676             43676   \n",
       "unique                      37789                   7152              3273   \n",
       "top     2021-05-26 20:59:14+05:30  Sooraj Ki Baahon Mein  The Yellow Diary   \n",
       "freq                           36                    600              1493   \n",
       "first   2019-02-27 08:16:51+05:30                    NaN               NaN   \n",
       "last    2023-11-17 02:36:41+05:30                    NaN               NaN   \n",
       "mean                          NaN                    NaN               NaN   \n",
       "std                           NaN                    NaN               NaN   \n",
       "min                           NaN                    NaN               NaN   \n",
       "25%                           NaN                    NaN               NaN   \n",
       "50%                           NaN                    NaN               NaN   \n",
       "75%                           NaN                    NaN               NaN   \n",
       "max                           NaN                    NaN               NaN   \n",
       "\n",
       "                       albumName reason_end       skipped  \\\n",
       "count                      43676      43676  11492.000000   \n",
       "unique                      5332         10           NaN   \n",
       "top     Zindagi Na Milegi Dobara     fwdbtn           NaN   \n",
       "freq                        1200      18914           NaN   \n",
       "first                        NaN        NaN           NaN   \n",
       "last                         NaN        NaN           NaN   \n",
       "mean                         NaN        NaN      0.441263   \n",
       "std                          NaN        NaN      0.496560   \n",
       "min                          NaN        NaN      0.000000   \n",
       "25%                          NaN        NaN      0.000000   \n",
       "50%                          NaN        NaN      0.000000   \n",
       "75%                          NaN        NaN      1.000000   \n",
       "max                          NaN        NaN      1.000000   \n",
       "\n",
       "                            id  danceability      loudness         tempo  \\\n",
       "count                    43676  43676.000000  43676.000000  43676.000000   \n",
       "unique                    7746           NaN           NaN           NaN   \n",
       "top     723xQva0yBF7M6K3nDAG8R           NaN           NaN           NaN   \n",
       "freq                       600           NaN           NaN           NaN   \n",
       "first                      NaN           NaN           NaN           NaN   \n",
       "last                       NaN           NaN           NaN           NaN   \n",
       "mean                       NaN      0.590831      0.848086      0.523515   \n",
       "std                        NaN      0.161382      0.067908      0.115228   \n",
       "min                        NaN      0.000000      0.233650      0.162480   \n",
       "25%                        NaN      0.492000      0.823983      0.451612   \n",
       "50%                        NaN      0.605000      0.863333      0.521432   \n",
       "75%                        NaN      0.703000      0.891333      0.615188   \n",
       "max                        NaN      0.980000      0.991267      1.000000   \n",
       "\n",
       "        acousticness        energy       valence      liveness   speechiness  \\\n",
       "count   43676.000000  43676.000000  43676.000000  43676.000000  43676.000000   \n",
       "unique           NaN           NaN           NaN           NaN           NaN   \n",
       "top              NaN           NaN           NaN           NaN           NaN   \n",
       "freq             NaN           NaN           NaN           NaN           NaN   \n",
       "first            NaN           NaN           NaN           NaN           NaN   \n",
       "last             NaN           NaN           NaN           NaN           NaN   \n",
       "mean        0.383074      0.551844      0.451862      0.163030      0.081702   \n",
       "std         0.329532      0.211925      0.242136      0.123582      0.094534   \n",
       "min         0.000001      0.000532      0.000000      0.019300      0.000000   \n",
       "25%         0.056600      0.412000      0.246000      0.094200      0.033300   \n",
       "50%         0.315000      0.561000      0.431000      0.115000      0.042700   \n",
       "75%         0.676000      0.718000      0.628000      0.185000      0.076400   \n",
       "max         0.996000      0.998000      0.980000      0.982000      0.891000   \n",
       "\n",
       "        instrumentalness    key  time_signature   mode   playlist  \\\n",
       "count       43676.000000  43676    43676.000000  43676      43676   \n",
       "unique               NaN     12             NaN      2          8   \n",
       "top                  NaN      A             NaN  major  new songs   \n",
       "freq                 NaN   5943             NaN  29251      24059   \n",
       "first                NaN    NaN             NaN    NaN        NaN   \n",
       "last                 NaN    NaN             NaN    NaN        NaN   \n",
       "mean            0.093201    NaN        3.905646    NaN        NaN   \n",
       "std             0.236520    NaN        0.392084    NaN        NaN   \n",
       "min             0.000000    NaN        0.000000    NaN        NaN   \n",
       "25%             0.000002    NaN        4.000000    NaN        NaN   \n",
       "50%             0.000196    NaN        4.000000    NaN        NaN   \n",
       "75%             0.011500    NaN        4.000000    NaN        NaN   \n",
       "max             0.995000    NaN        5.000000    NaN        NaN   \n",
       "\n",
       "          min_played      duration   skip  \n",
       "count   43676.000000  43676.000000  43676  \n",
       "unique           NaN           NaN      2  \n",
       "top              NaN           NaN  False  \n",
       "freq             NaN           NaN  27901  \n",
       "first            NaN           NaN    NaN  \n",
       "last             NaN           NaN    NaN  \n",
       "mean        1.823353      3.839438    NaN  \n",
       "std         1.805237      1.220220    NaN  \n",
       "min         0.000000      0.190000    NaN  \n",
       "25%         0.050000      3.160000    NaN  \n",
       "50%         1.440000      3.650000    NaN  \n",
       "75%         3.300000      4.270000    NaN  \n",
       "max        18.540000     16.620000    NaN  "
      ]
     },
     "execution_count": 185,
     "metadata": {},
     "output_type": "execute_result"
    }
   ],
   "source": [
    "df_new1.describe(include='all')"
   ]
  },
  {
   "cell_type": "code",
   "execution_count": 186,
   "id": "6b69ef76",
   "metadata": {},
   "outputs": [
    {
     "data": {
      "text/plain": [
       "date_time               0\n",
       "trackName               0\n",
       "artistName              0\n",
       "albumName               0\n",
       "reason_end              0\n",
       "skipped             32184\n",
       "id                      0\n",
       "danceability            0\n",
       "loudness                0\n",
       "tempo                   0\n",
       "acousticness            0\n",
       "energy                  0\n",
       "valence                 0\n",
       "liveness                0\n",
       "speechiness             0\n",
       "instrumentalness        0\n",
       "key                     0\n",
       "time_signature          0\n",
       "mode                    0\n",
       "playlist                0\n",
       "min_played              0\n",
       "duration                0\n",
       "skip                    0\n",
       "dtype: int64"
      ]
     },
     "execution_count": 186,
     "metadata": {},
     "output_type": "execute_result"
    }
   ],
   "source": [
    "df_new1.isna().sum()"
   ]
  },
  {
   "cell_type": "markdown",
   "id": "3c59ee9a",
   "metadata": {},
   "source": [
    "drop missing values"
   ]
  },
  {
   "cell_type": "code",
   "execution_count": 173,
   "id": "fe17518d",
   "metadata": {},
   "outputs": [],
   "source": [
    "df_new1 = df_new1.dropna(subset=['key'])"
   ]
  },
  {
   "cell_type": "markdown",
   "id": "0e7569f0",
   "metadata": {},
   "source": [
    "Working with features to our convenience"
   ]
  },
  {
   "cell_type": "code",
   "execution_count": 174,
   "id": "b2bbf5b3",
   "metadata": {},
   "outputs": [],
   "source": [
    "replacement_mode = {1:'major',0:'minor'}\n",
    "replacement_keys = {0:'C',1:'C#/Db',2:'D',3:'D#,Eb',4:'E',5:'F',6:'F#/Gb',7:'G',8:'G#/Ab',9:'A',10:'A#/Bb',11:'B',-1:'na'}\n",
    "# # is sharp and b is flat "
   ]
  },
  {
   "cell_type": "code",
   "execution_count": 175,
   "id": "50a5f86f",
   "metadata": {},
   "outputs": [],
   "source": [
    "df_new1['min_played'] = round(df_new1['ms_played']/60000,2)\n",
    "df_new1['duration'] = round(df_new1['duration_ms']/60000,2)a\n",
    "df_new1['loudness'] = (df_new1['loudness'] - (-60)) / (0 - (-60))\n",
    "df_new1['tempo'] = (df_new1['tempo'] - (250)) / (0 - (250))\n",
    "df_new1['key'] = df_new1['key'].replace(replacement_keys)\n",
    "df_new1['mode'] = df_new1['mode'].replace(replacement_mode)\n",
    "\n",
    "\n",
    "df_new1 = df_new1.drop(['ms_played','duration_ms'],axis=1)"
   ]
  },
  {
   "cell_type": "markdown",
   "id": "f20a3409",
   "metadata": {},
   "source": [
    "if find out which songs were skipped without listening to the tracks "
   ]
  },
  {
   "cell_type": "code",
   "execution_count": 176,
   "id": "0033f06b",
   "metadata": {},
   "outputs": [],
   "source": [
    "df_new1['skip'] = df_new1['min_played'].apply(lambda x: x <= 1) \n",
    "# will i skip a song more probably if i have heard it just in the vicinity like say within an hr\n"
   ]
  },
  {
   "cell_type": "code",
   "execution_count": null,
   "id": "ef8b7d3c",
   "metadata": {},
   "outputs": [],
   "source": []
  },
  {
   "cell_type": "markdown",
   "id": "d1dbbad0",
   "metadata": {},
   "source": [
    "drop songs with duration over 30 minutes since they might be podcasts"
   ]
  },
  {
   "cell_type": "code",
   "execution_count": 177,
   "id": "d88bbbfd",
   "metadata": {},
   "outputs": [],
   "source": [
    "df_new1 = df_new1[df_new1['duration'] < 30]"
   ]
  },
  {
   "cell_type": "markdown",
   "id": "6c7aa3f8",
   "metadata": {},
   "source": [
    "convert \"date_time\" column to a date type ,so that we can work with it "
   ]
  },
  {
   "cell_type": "code",
   "execution_count": 178,
   "id": "c2ebffbf",
   "metadata": {},
   "outputs": [],
   "source": [
    "df_new1['date_time']= pd.to_datetime(df_new1['date_time']) "
   ]
  },
  {
   "cell_type": "markdown",
   "id": "1e43d7de",
   "metadata": {},
   "source": [
    "as we see here , we have to change time zone to kolkata one "
   ]
  },
  {
   "cell_type": "code",
   "execution_count": 179,
   "id": "456851c2",
   "metadata": {},
   "outputs": [],
   "source": [
    "df_new1['date_time'] = df_new1['date_time'].dt.tz_convert('Asia/Kolkata')"
   ]
  },
  {
   "cell_type": "code",
   "execution_count": 180,
   "id": "ba833448",
   "metadata": {},
   "outputs": [],
   "source": [
    "#fig = px.box(df_new,y = 'danceability',hover_name='trackName')\n",
    "#fig.show()"
   ]
  },
  {
   "cell_type": "markdown",
   "id": "079145f5",
   "metadata": {},
   "source": [
    "fill nan values with new songs in playlist column "
   ]
  },
  {
   "cell_type": "code",
   "execution_count": 181,
   "id": "e6543b6a",
   "metadata": {},
   "outputs": [],
   "source": [
    "df_new1['playlist'] = df_new1['playlist'].fillna('new songs')"
   ]
  },
  {
   "cell_type": "code",
   "execution_count": 182,
   "id": "638dacbe",
   "metadata": {},
   "outputs": [],
   "source": [
    "file_path = 'Streaming_history_data.csv'\n",
    "df_new1.to_csv(file_path,index=False)"
   ]
  },
  {
   "cell_type": "code",
   "execution_count": 183,
   "id": "0df8b5f5",
   "metadata": {},
   "outputs": [
    {
     "data": {
      "text/html": [
       "<div>\n",
       "<style scoped>\n",
       "    .dataframe tbody tr th:only-of-type {\n",
       "        vertical-align: middle;\n",
       "    }\n",
       "\n",
       "    .dataframe tbody tr th {\n",
       "        vertical-align: top;\n",
       "    }\n",
       "\n",
       "    .dataframe thead th {\n",
       "        text-align: right;\n",
       "    }\n",
       "</style>\n",
       "<table border=\"1\" class=\"dataframe\">\n",
       "  <thead>\n",
       "    <tr style=\"text-align: right;\">\n",
       "      <th></th>\n",
       "      <th>date_time</th>\n",
       "      <th>trackName</th>\n",
       "      <th>artistName</th>\n",
       "      <th>albumName</th>\n",
       "      <th>reason_end</th>\n",
       "      <th>skipped</th>\n",
       "      <th>id</th>\n",
       "      <th>danceability</th>\n",
       "      <th>loudness</th>\n",
       "      <th>tempo</th>\n",
       "      <th>acousticness</th>\n",
       "      <th>energy</th>\n",
       "      <th>valence</th>\n",
       "      <th>liveness</th>\n",
       "      <th>speechiness</th>\n",
       "      <th>instrumentalness</th>\n",
       "      <th>key</th>\n",
       "      <th>time_signature</th>\n",
       "      <th>mode</th>\n",
       "      <th>playlist</th>\n",
       "      <th>min_played</th>\n",
       "      <th>duration</th>\n",
       "      <th>skip</th>\n",
       "    </tr>\n",
       "  </thead>\n",
       "  <tbody>\n",
       "  </tbody>\n",
       "</table>\n",
       "</div>"
      ],
      "text/plain": [
       "Empty DataFrame\n",
       "Columns: [date_time, trackName, artistName, albumName, reason_end, skipped, id, danceability, loudness, tempo, acousticness, energy, valence, liveness, speechiness, instrumentalness, key, time_signature, mode, playlist, min_played, duration, skip]\n",
       "Index: []"
      ]
     },
     "execution_count": 183,
     "metadata": {},
     "output_type": "execute_result"
    }
   ],
   "source": [
    "df_new1[df_new1['tempo']>1].drop_duplicates(subset='id')"
   ]
  },
  {
   "cell_type": "code",
   "execution_count": null,
   "id": "f6697465",
   "metadata": {},
   "outputs": [],
   "source": []
  },
  {
   "cell_type": "code",
   "execution_count": null,
   "id": "cf7eb82f",
   "metadata": {},
   "outputs": [],
   "source": []
  },
  {
   "cell_type": "code",
   "execution_count": null,
   "id": "85d39eb9",
   "metadata": {},
   "outputs": [],
   "source": []
  },
  {
   "cell_type": "code",
   "execution_count": null,
   "id": "1ee5391c",
   "metadata": {},
   "outputs": [],
   "source": []
  },
  {
   "cell_type": "code",
   "execution_count": 184,
   "id": "37537f5b",
   "metadata": {},
   "outputs": [],
   "source": [
    "#fig = px.scatter(df_new1,x = 'date_time',y = 'danceability',hover_name='trackName',color='skip')\n",
    "#fig.show()"
   ]
  },
  {
   "cell_type": "markdown",
   "id": "c1427944",
   "metadata": {},
   "source": [
    "def handler(pd: \"pipedream\"):\n",
    "  token = f'{pd.inputs[\"spotify\"][\"$auth\"][\"oauth_access_token\"]}'\n",
    "  authorization = f'Bearer {token}'\n",
    "  headers = {\"Authorization\": authorization}\n",
    "\n",
    "  params = {\n",
    "    \"type\":\"track\",\n",
    "    \"q\": pd.steps[\"create_search_string\"][\"$return_value\"],\n",
    "    \"offset\":pd.steps[\"select_offset\"][\"$return_value\"]\n",
    "  }\n",
    "\n",
    "  r = requests.get('https://api.spotify.com/v1/search', params=params, headers=headers)\n",
    "  return r.json()"
   ]
  },
  {
   "cell_type": "markdown",
   "id": "e992dacc",
   "metadata": {},
   "source": [
    "get 10 random songs and then decide which playlist they get into"
   ]
  }
 ],
 "metadata": {
  "kernelspec": {
   "display_name": "Python 3 (ipykernel)",
   "language": "python",
   "name": "python3"
  },
  "language_info": {
   "codemirror_mode": {
    "name": "ipython",
    "version": 3
   },
   "file_extension": ".py",
   "mimetype": "text/x-python",
   "name": "python",
   "nbconvert_exporter": "python",
   "pygments_lexer": "ipython3",
   "version": "3.9.16"
  }
 },
 "nbformat": 4,
 "nbformat_minor": 5
}
