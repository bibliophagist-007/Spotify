{
 "cells": [
  {
   "cell_type": "code",
   "execution_count": null,
   "id": "1951c79d",
   "metadata": {},
   "outputs": [],
   "source": [
    "def get_api_id(track_info: str, token: str, artist: str = None) -> str:\n",
    "    '''Performs a query on Spotify API to get a track ID.\n",
    "    See https://curl.trillworks.com/'''\n",
    "\n",
    "    # Set up logging\n",
    "    logging.basicConfig(filename='spotify_api.log', level=logging.ERROR)\n",
    "\n",
    "    # Define headers for the HTTP request\n",
    "    headers = {\n",
    "        'Accept': 'application/json',\n",
    "        'Content-Type': 'application/json',\n",
    "        'Authorization': f'Bearer ' + token,\n",
    "    }\n",
    "\n",
    "    # Extract track name and artist from the input track_info\n",
    "    track_name = track_info.split(\"___\")[0]\n",
    "\n",
    "    # Prepare parameters for the API request\n",
    "    params = [\n",
    "        ('q', track_name),\n",
    "        ('type', 'track'),\n",
    "    ]\n",
    "\n",
    "    # If artist information is provided, add it to the parameters\n",
    "    artist = track_info.split(\"___\")[-1]\n",
    "    if artist:\n",
    "        params.append(('artist', artist))\n",
    "\n",
    "    try:\n",
    "        # Make a GET request to Spotify API with the specified parameters\n",
    "        response = requests.get('https://api.spotify.com/v1/search',\n",
    "                                headers=headers, params=params, timeout=5)\n",
    "        response.raise_for_status()  # Raise HTTPError for bad responses\n",
    "\n",
    "        json_data = response.json()\n",
    "\n",
    "        # Check if the response contains track information\n",
    "        if 'tracks' in json_data and 'items' in json_data['tracks']:\n",
    "            results = json_data['tracks']['items']\n",
    "\n",
    "            # Check if the specified artist is in the response\n",
    "            if artist:\n",
    "                for result in results:\n",
    "                    if artist.strip() == result['artists'][0]['name'].strip():\n",
    "                        track_id = result['id']\n",
    "                        return track_id\n",
    "\n",
    "            # If the specified artist is not found, use the first result\n",
    "            if results:\n",
    "                track_id = results[0]['id']\n",
    "                return track_id\n",
    "            else:\n",
    "                logging.warning(f\"No results found for track: {track_name}\")\n",
    "\n",
    "        else:\n",
    "            logging.warning(f\"Unexpected response format from Spotify API: {json_data}\")\n",
    "\n",
    "    except requests.exceptions.Timeout:\n",
    "        logging.error(\"Timeout error: The Spotify API request timed out.\")\n",
    "    except requests.exceptions.RequestException as e:\n",
    "        logging.error(f\"Request error: {e}\")\n",
    "    except Exception as e:\n",
    "        logging.error(f\"An unexpected error occurred: {e}\")\n",
    "\n",
    "    # Return None in case of errors\n",
    "    return None"
   ]
  },
  {
   "cell_type": "code",
   "execution_count": null,
   "id": "8883b0d3",
   "metadata": {},
   "outputs": [],
   "source": [
    "import concurrent.futures\n",
    "import requests\n",
    "\n",
    "def request_get(url, headers, params):\n",
    "    return requests.get(url, headers=headers, params=params)\n",
    "\n",
    "def get_api_id_new(track_info, token, artist=None):\n",
    "    headers = {\n",
    "        'Accept': 'application/json',\n",
    "        'Content-Type': 'application/json',\n",
    "        'Authorization': f'Bearer {token}',\n",
    "    }\n",
    "    track_name = track_info.split(\"___\")[0]\n",
    "    params = [\n",
    "        ('q', track_name),\n",
    "        ('type', 'track'),\n",
    "    ]\n",
    "    artist = track_info.split(\"___\")[-1]\n",
    "    if artist:\n",
    "        params.append(('artist', artist))\n",
    "\n",
    "    with concurrent.futures.ThreadPoolExecutor() as executor:\n",
    "        res = [executor.submit(request_get, 'https://api.spotify.com/v1/search', headers=headers, params=params) for _ in range(15)]\n",
    "        concurrent.futures.wait(res)\n",
    "\n",
    "    try:\n",
    "        json = res[0].result().json()\n",
    "        results = json['tracks']['items']\n",
    "        first_result = json['tracks']['items'][0]\n",
    "        if artist:\n",
    "            for result in results:\n",
    "                if artist.strip() == result['artists'][0]['name'].strip():\n",
    "                    track_id = result['id']\n",
    "                    return track_id\n",
    "        track_id = first_result['id']\n",
    "        return track_id\n",
    "    except:\n",
    "        return None"
   ]
  },
  {
   "cell_type": "code",
   "execution_count": null,
   "id": "a82c7ed3",
   "metadata": {},
   "outputs": [],
   "source": [
    "def get_song_id(row, token):\n",
    "    return get_api_id_new(row['trackName'], token, artist=row['artistName'])"
   ]
  },
  {
   "cell_type": "code",
   "execution_count": null,
   "id": "89d09bc0",
   "metadata": {},
   "outputs": [],
   "source": [
    "song_id = get_api_id('Pleaser', token, artist = 'Wallows')\n",
    "print(song_id)"
   ]
  },
  {
   "cell_type": "code",
   "execution_count": null,
   "id": "74a296be",
   "metadata": {},
   "outputs": [],
   "source": []
  },
  {
   "cell_type": "code",
   "execution_count": null,
   "id": "40a0bb03",
   "metadata": {},
   "outputs": [],
   "source": [
    "playlist = pd.read_csv('playlist_data.csv')\n",
    "mask = df['trackName'].isin(playlist['trackName'])\n",
    "df = df[~mask]\n",
    "df.head()"
   ]
  },
  {
   "cell_type": "code",
   "execution_count": null,
   "id": "7f43edbd",
   "metadata": {},
   "outputs": [],
   "source": [
    "saved_id = pd.read_csv(\"D:/ADITYA/Documents/adi new/coding/spotify/saved_id.csv\")\n",
    "mask = df['trackName'].isin(saved_id['trackName'])\n",
    "df = df[~mask]\n",
    "df.head()"
   ]
  },
  {
   "cell_type": "code",
   "execution_count": null,
   "id": "28553063",
   "metadata": {},
   "outputs": [],
   "source": []
  },
  {
   "cell_type": "code",
   "execution_count": null,
   "id": "8d8fe22e",
   "metadata": {},
   "outputs": [],
   "source": []
  },
  {
   "cell_type": "code",
   "execution_count": null,
   "id": "495555cf",
   "metadata": {},
   "outputs": [],
   "source": [
    "df1 = df[['artistName','trackName']].groupby('trackName').first().reset_index()"
   ]
  },
  {
   "cell_type": "code",
   "execution_count": null,
   "id": "1b8e4819",
   "metadata": {},
   "outputs": [],
   "source": [
    "start_time = time.time()\n",
    "df2['id'] = df2.apply(get_song_id, token=token, axis=1)\n",
    "execution_time = time.time() - start_time"
   ]
  },
  {
   "cell_type": "code",
   "execution_count": null,
   "id": "7bfb0bcc",
   "metadata": {},
   "outputs": [],
   "source": [
    "if df1.empty == False:\n",
    "    df1['id'] = df1.apply(get_song_id, token=token, axis=1)"
   ]
  },
  {
   "cell_type": "code",
   "execution_count": null,
   "id": "6d6ec41e",
   "metadata": {},
   "outputs": [],
   "source": [
    "file_path = 'saved_id.csv'\n",
    "df1.to_csv(file_path,mode='a', header=False, index=False)"
   ]
  }
 ],
 "metadata": {
  "kernelspec": {
   "display_name": "Python 3 (ipykernel)",
   "language": "python",
   "name": "python3"
  },
  "language_info": {
   "codemirror_mode": {
    "name": "ipython",
    "version": 3
   },
   "file_extension": ".py",
   "mimetype": "text/x-python",
   "name": "python",
   "nbconvert_exporter": "python",
   "pygments_lexer": "ipython3",
   "version": "3.9.16"
  }
 },
 "nbformat": 4,
 "nbformat_minor": 5
}
